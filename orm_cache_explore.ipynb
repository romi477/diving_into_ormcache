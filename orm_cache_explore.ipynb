{
 "cells": [
  {
   "cell_type": "markdown",
   "id": "90e7ebc6-188a-4140-8a71-c663b3a02614",
   "metadata": {},
   "source": [
    "# Diving into @ormcache (from odoo.tools import ormcache)"
   ]
  },
  {
   "cell_type": "markdown",
   "id": "db1d5c95-16b3-43cf-8a9f-b7d222cd0d81",
   "metadata": {},
   "source": [
    "1. [Class as decorator](#Class-Decorator)\n"
   ]
  },
  {
   "cell_type": "markdown",
   "id": "a9c420c3-c239-424c-b3a7-042960140aba",
   "metadata": {},
   "source": [
    "### Class Decorator"
   ]
  },
  {
   "cell_type": "code",
   "execution_count": 79,
   "id": "898a061c-4009-460b-a493-e3f2b72220b6",
   "metadata": {},
   "outputs": [
    {
     "name": "stdout",
     "output_type": "stream",
     "text": [
      "__init__\n",
      "__call__\n"
     ]
    }
   ],
   "source": [
    "\n",
    "class Repeater:\n",
    "    def __init__(self, n):\n",
    "        print('__init__')\n",
    "        self.n = n\n",
    "        \n",
    "    def __call__(self, f):\n",
    "        print('__call__')\n",
    "        \n",
    "        def wrapper(*args, **kwargs):\n",
    "            for _ in range(self.n):\n",
    "                f(*args, **kwargs)\n",
    "        \n",
    "        return wrapper\n",
    "\n",
    "@Repeater(3)\n",
    "def foo():\n",
    "    print('foo')\n",
    "    "
   ]
  },
  {
   "cell_type": "code",
   "execution_count": 80,
   "id": "95fb0e65-9381-480c-8000-acc340406651",
   "metadata": {},
   "outputs": [
    {
     "name": "stdout",
     "output_type": "stream",
     "text": [
      "foo\n",
      "foo\n",
      "foo\n"
     ]
    }
   ],
   "source": [
    "foo()"
   ]
  },
  {
   "cell_type": "code",
   "execution_count": 81,
   "id": "491a433a-0405-4803-9985-2e8b4668c538",
   "metadata": {},
   "outputs": [
    {
     "name": "stdout",
     "output_type": "stream",
     "text": [
      "fun\n"
     ]
    }
   ],
   "source": [
    "def fun(f):\n",
    "    print('fun')\n",
    "    x = 100\n",
    "    \n",
    "    def wrapper(y):\n",
    "        print('wrapper')\n",
    "        f(x + y)\n",
    "        \n",
    "    return wrapper\n",
    "\n",
    "@fun\n",
    "def bar(y):\n",
    "    print(y)\n",
    "\n",
    "    "
   ]
  },
  {
   "cell_type": "code",
   "execution_count": 82,
   "id": "6a161785-d26a-4e27-8ec9-8838686cc334",
   "metadata": {},
   "outputs": [
    {
     "name": "stdout",
     "output_type": "stream",
     "text": [
      "wrapper\n",
      "212\n"
     ]
    }
   ],
   "source": [
    "bar(112)"
   ]
  },
  {
   "cell_type": "code",
   "execution_count": null,
   "id": "6bb24dfa-f62b-4715-ae4b-df5bf03e0b39",
   "metadata": {},
   "outputs": [],
   "source": []
  }
 ],
 "metadata": {
  "kernelspec": {
   "display_name": "Python 3",
   "language": "python",
   "name": "python3"
  },
  "language_info": {
   "codemirror_mode": {
    "name": "ipython",
    "version": 3
   },
   "file_extension": ".py",
   "mimetype": "text/x-python",
   "name": "python",
   "nbconvert_exporter": "python",
   "pygments_lexer": "ipython3",
   "version": "3.6.9"
  }
 },
 "nbformat": 4,
 "nbformat_minor": 5
}
