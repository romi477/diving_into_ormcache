{
 "cells": [
  {
   "cell_type": "markdown",
   "metadata": {},
   "source": [
    "# Diving into @ormcache  / @ormcache_context\n",
    "\n",
    "## *(from odoo.tools import ormcache, ormcache_context)*"
   ]
  },
  {
   "cell_type": "markdown",
   "metadata": {},
   "source": [
    "## Odoo LRU Cache *(LRU - least recently used)*"
   ]
  },
  {
   "cell_type": "markdown",
   "metadata": {},
   "source": [
    "### Common situation in Odoo sources"
   ]
  },
  {
   "cell_type": "code",
   "execution_count": null,
   "metadata": {},
   "outputs": [],
   "source": [
    "from odoo import models\n",
    "\n",
    "\n",
    "class ProductTemplate(models.Model):\n",
    "    _name = \"product.template\"\n",
    "    _inherit = ['mail.thread', 'mail.activity.mixin', 'image.mixin']\n",
    "    _description = \"Product Template\"\n",
    "    _order = \"name\"\n",
    "\n",
    "    @tools.ormcache()\n",
    "    def _get_default_category_id(self):\n",
    "        # Deletion forbidden (at least through unlink)\n",
    "        return self.env.ref('product.product_category_all')\n",
    "    \n",
    "    @tools.ormcache('self.id', 'frozenset(filtered_combination.ids)')\n",
    "    def _get_variant_id_for_combination(self, filtered_combination):\n",
    "        \"\"\"See `_get_variant_for_combination`. This method returns an ID\n",
    "        so it can be cached.\n",
    "\n",
    "        Use sudo because the same result should be cached for all users.\n",
    "        \"\"\"\n",
    "        self.ensure_one()\n",
    "        domain = [('product_tmpl_id', '=', self.id)]\n",
    "        combination_indices_ids = filtered_combination._ids2str()\n",
    "\n",
    "        if combination_indices_ids:\n",
    "            domain = expression.AND([domain, [('combination_indices', '=', combination_indices_ids)]])\n",
    "        else:\n",
    "            domain = expression.AND([domain, [('combination_indices', 'in', ['', False])]])\n",
    "\n",
    "        return self.env['product.product'].sudo().with_context(active_test=False).search(domain, order='active DESC', limit=1).id\n",
    "\n",
    "    @tools.ormcache('self.id')\n",
    "    def _get_first_possible_variant_id(self):\n",
    "        \"\"\"See `_create_first_product_variant`. This method returns an ID\n",
    "        so it can be cached.\"\"\"\n",
    "        self.ensure_one()\n",
    "        return self._create_first_product_variant().id"
   ]
  },
  {
   "cell_type": "markdown",
   "metadata": {},
   "source": [
    "<br></br>\n",
    "<br></br>\n",
    "### class ormcache: *( odoo/odoo/tools/cache.py )*"
   ]
  },
  {
   "cell_type": "code",
   "execution_count": null,
   "metadata": {},
   "outputs": [],
   "source": [
    "from collections import Counter, defaultdict\n",
    "from decorator import decorator\n",
    "from inspect import signature\n",
    "import logging\n",
    "\n",
    "unsafe_eval = eval\n",
    "\n",
    "_logger = logging.getLogger(__name__)\n",
    "\n",
    "\n",
    "class ormcache_counter(object):\n",
    "    \"\"\" Statistic counters for cache entries. \"\"\"\n",
    "    __slots__ = ['hit', 'miss', 'err']\n",
    "\n",
    "    def __init__(self):\n",
    "        self.hit = 0\n",
    "        self.miss = 0\n",
    "        self.err = 0\n",
    "\n",
    "    @property\n",
    "    def ratio(self):\n",
    "        return 100.0 * self.hit / (self.hit + self.miss or 1)\n",
    "\n",
    "# statistic counters dictionary, maps (dbname, modelname, method) to counter\n",
    "STAT = defaultdict(ormcache_counter)\n",
    "\n",
    "\n",
    "class ormcache(object):\n",
    "    \"\"\" LRU cache decorator for model methods.\n",
    "    The parameters are strings that represent expressions referring to the\n",
    "    signature of the decorated method, and are used to compute a cache key::\n",
    "\n",
    "        @ormcache('model_name', 'mode')\n",
    "        def _compute_domain(self, model_name, mode=\"read\"):\n",
    "            ...\n",
    "\n",
    "    For the sake of backward compatibility, the decorator supports the named\n",
    "    parameter `skiparg`::\n",
    "\n",
    "        @ormcache(skiparg=1)\n",
    "        def _compute_domain(self, model_name, mode=\"read\"):\n",
    "            ...\n",
    "\n",
    "    Methods implementing this decorator should never return a Recordset,\n",
    "    because the underlying cursor will eventually be closed and raise a\n",
    "    `psycopg2.OperationalError`.\n",
    "    \"\"\"\n",
    "    def __init__(self, *args, **kwargs):\n",
    "        self.args = args\n",
    "        self.skiparg = kwargs.get('skiparg')\n",
    "\n",
    "    def __call__(self, method):\n",
    "        self.method = method\n",
    "        self.determine_key()\n",
    "        lookup = decorator(self.lookup, method)\n",
    "        lookup.clear_cache = self.clear\n",
    "        return lookup\n",
    "\n",
    "    def determine_key(self):\n",
    "        \"\"\" Determine the function that computes a cache key from arguments. \"\"\"\n",
    "        if self.skiparg is None:\n",
    "            # build a string that represents function code and evaluate it\n",
    "            args = str(signature(self.method))[1:-1]\n",
    "            if self.args:\n",
    "                code = \"lambda %s: (%s,)\" % (args, \", \".join(self.args))\n",
    "            else:\n",
    "                code = \"lambda %s: ()\" % (args,)\n",
    "            self.key = unsafe_eval(code)\n",
    "        else:\n",
    "            # backward-compatible function that uses self.skiparg\n",
    "            self.key = lambda *args, **kwargs: args[self.skiparg:]\n",
    "\n",
    "    def lru(self, model):\n",
    "        counter = STAT[(model.pool.db_name, model._name, self.method)]\n",
    "        return model.pool._Registry__cache, (model._name, self.method), counter\n",
    "\n",
    "    def lookup(self, method, *args, **kwargs):\n",
    "        d, key0, counter = self.lru(args[0])\n",
    "        key = key0 + self.key(*args, **kwargs)\n",
    "        try:\n",
    "            r = d[key]\n",
    "            counter.hit += 1\n",
    "            return r\n",
    "        except KeyError:\n",
    "            counter.miss += 1\n",
    "            value = d[key] = self.method(*args, **kwargs)\n",
    "            return value\n",
    "        except TypeError:\n",
    "            _logger.warning(\"cache lookup error on %r\", key, exc_info=True)\n",
    "            counter.err += 1\n",
    "            return self.method(*args, **kwargs)\n",
    "\n",
    "    def clear(self, model, *args):\n",
    "        \"\"\" Clear the registry cache \"\"\"\n",
    "        model.pool._clear_cache()\n",
    "\n",
    "\n",
    "class ormcache_context(ormcache):\n",
    "    \"\"\" This LRU cache decorator is a variant of :class:`ormcache`, with an\n",
    "    extra parameter ``keys`` that defines a sequence of dictionary keys. Those\n",
    "    keys are looked up in the ``context`` parameter and combined to the cache\n",
    "    key made by :class:`ormcache`.\n",
    "    \"\"\"\n",
    "    def __init__(self, *args, **kwargs):\n",
    "        super(ormcache_context, self).__init__(*args, **kwargs)\n",
    "        self.keys = kwargs['keys']\n",
    "\n",
    "    def determine_key(self):\n",
    "        \"\"\" Determine the function that computes a cache key from arguments. \"\"\"\n",
    "        assert self.skiparg is None, \"ormcache_context() no longer supports skiparg\"\n",
    "        # build a string that represents function code and evaluate it\n",
    "        sign = signature(self.method)\n",
    "        args = str(sign)[1:-1]\n",
    "        cont_expr = \"(context or {})\" if 'context' in sign.parameters else \"self._context\"\n",
    "        keys_expr = \"tuple(%s.get(k) for k in %r)\" % (cont_expr, self.keys)\n",
    "        if self.args:\n",
    "            code = \"lambda %s: (%s, %s)\" % (args, \", \".join(self.args), keys_expr)\n",
    "        else:\n",
    "            code = \"lambda %s: (%s,)\" % (args, keys_expr)\n",
    "        self.key = unsafe_eval(code)"
   ]
  },
  {
   "cell_type": "markdown",
   "metadata": {},
   "source": [
    "<br></br>\n",
    "<br></br>\n",
    "### Class as Decorator"
   ]
  },
  {
   "cell_type": "code",
   "execution_count": 64,
   "metadata": {},
   "outputs": [
    {
     "name": "stdout",
     "output_type": "stream",
     "text": [
      "__init__\n",
      "__call__\n"
     ]
    }
   ],
   "source": [
    "\n",
    "class CLASS_DECORATOR:\n",
    "    \n",
    "    def __init__(self, *ar, **kw):\n",
    "        print('__init__')\n",
    "        self.ar = ar\n",
    "        self.kw = kw\n",
    "        \n",
    "    def __call__(self, f):\n",
    "        print('__call__')\n",
    "        \n",
    "        def wrapper(*args, **kwargs):\n",
    "            print('__wrapper__')\n",
    "            print('--------------')\n",
    "            print('self args: %s' % str(self.ar))\n",
    "            print('self kwargs: %s' % str(self.kw))\n",
    "            print('--------------')\n",
    "            print('foo args: %s' % str(args))\n",
    "            print('foo kwargs: %s' % str(kwargs))\n",
    "            print('--------------')\n",
    "            \n",
    "            f(*args, **kwargs)\n",
    "        \n",
    "        return wrapper\n",
    "\n",
    "\n",
    "@CLASS_DECORATOR('a', 'b', c=42, d=404)\n",
    "def foo(*args, **kwargs):\n",
    "    print('__foo__')"
   ]
  },
  {
   "cell_type": "code",
   "execution_count": 65,
   "metadata": {
    "scrolled": true
   },
   "outputs": [
    {
     "name": "stdout",
     "output_type": "stream",
     "text": [
      "__wrapper__\n",
      "--------------\n",
      "self args: ('a', 'b')\n",
      "self kwargs: {'d': 404, 'c': 42}\n",
      "--------------\n",
      "foo args: ('e', 'f')\n",
      "foo kwargs: {'j': 502}\n",
      "--------------\n",
      "__foo__\n"
     ]
    }
   ],
   "source": [
    "foo('e', 'f', j=502)"
   ]
  },
  {
   "cell_type": "markdown",
   "metadata": {},
   "source": [
    "<br></br>\n",
    "<br></br>\n",
    "### class Registry: *( odoo/odoo/modules/registry.py )*"
   ]
  },
  {
   "attachments": {
    "env.png": {
     "image/png": "[encoded data removed]"
    }
   },
   "cell_type": "markdown",
   "metadata": {},
   "source": [
    "![env.png](attachment:env.png)"
   ]
  },
  {
   "cell_type": "markdown",
   "metadata": {},
   "source": [
    "### Envoronment.Cache: \"\"\" Implementation of the cache of records. \"\"\""
   ]
  },
  {
   "cell_type": "markdown",
   "metadata": {},
   "source": [
    "### Registry.LRU_Cache: \"\"\" LRU cache decorator for model methods. \"\"\""
   ]
  },
  {
   "attachments": {
    "self_env.png": {
     "image/png": "[encoded data removed]"
    }
   },
   "cell_type": "markdown",
   "metadata": {},
   "source": [
    "![self_env.png](attachment:self_env.png)"
   ]
  },
  {
   "cell_type": "code",
   "execution_count": null,
   "metadata": {},
   "outputs": [],
   "source": [
    "from collections.abc import Mapping\n",
    "from odoo.tools.lru import LRU\n",
    "\n",
    "\n",
    "class Registry(Mapping):\n",
    "    \"\"\" Model registry for a particular database.\n",
    "\n",
    "    The registry is essentially a mapping between model names and model classes.\n",
    "    There is one registry instance per database.\n",
    "\n",
    "    \"\"\"\n",
    "    _lock = threading.RLock()\n",
    "    _saved_lock = None\n",
    "  \n",
    "    def __new__(cls, db_name):\n",
    "        \"\"\" Return the registry for the given database name.\"\"\"\n",
    "        with cls._lock:\n",
    "            try:\n",
    "                return cls.registries[db_name]\n",
    "            except KeyError:\n",
    "                return cls.new(db_name)\n",
    "            finally:\n",
    "                # set db tracker - cleaned up at the WSGI dispatching phase in\n",
    "                # odoo.service.wsgi_server.application\n",
    "                threading.current_thread().dbname = db_name\n",
    "\n",
    "    @classmethod\n",
    "    def new(cls, db_name, force_demo=False, status=None, update_module=False):\n",
    "        \"\"\" Create and return a new registry for the given database name. \"\"\"\n",
    "        with cls._lock:\n",
    "            with odoo.api.Environment.manage():\n",
    "                registry = object.__new__(cls)\n",
    "                registry.init(db_name)\n",
    "\n",
    "                # Initializing a registry will call general code which will in\n",
    "                # turn call Registry() to obtain the registry being initialized.\n",
    "                # Make it available in the registries dictionary then remove it\n",
    "                # if an exception is raised.\n",
    "                cls.delete(db_name)\n",
    "                cls.registries[db_name] = registry\n",
    "                try:\n",
    "                    registry.setup_signaling()\n",
    "                    # This should be a method on Registry\n",
    "                    try:\n",
    "                        odoo.modules.load_modules(registry._db, force_demo, status, update_module)\n",
    "                    except Exception:\n",
    "                        odoo.modules.reset_modules_state(db_name)\n",
    "                        raise\n",
    "                except Exception:\n",
    "                    _logger.error('Failed to load registry')\n",
    "                    del cls.registries[db_name]\n",
    "                    raise\n",
    "\n",
    "                # load_modules() above can replace the registry by calling\n",
    "                # indirectly new() again (when modules have to be uninstalled).\n",
    "                # Yeah, crazy.\n",
    "                registry = cls.registries[db_name]\n",
    "\n",
    "            registry._init = False\n",
    "            registry.ready = True\n",
    "            registry.registry_invalidated = bool(update_module)\n",
    "\n",
    "        return registry\n",
    "\n",
    "    def init(self, db_name):\n",
    "        self.models = {}    # model name/model instance mapping\n",
    "        self._sql_constraints = set()\n",
    "        self._init = True\n",
    "        self._assertion_report = odoo.tests.runner.OdooTestResult()\n",
    "        self._fields_by_model = None\n",
    "        self._ordinary_tables = None\n",
    "        self._constraint_queue = deque()\n",
    "        self.__cache = LRU(8192)\n",
    "\n",
    "        # modules fully loaded (maintained during init phase by `loading` module)\n",
    "        self._init_modules = set()\n",
    "        self.updated_modules = []       # installed/updated modules\n",
    "        self.loaded_xmlids = set()\n",
    "\n",
    "        self.db_name = db_name\n",
    "        self._db = odoo.sql_db.db_connect(db_name)\n",
    "\n",
    "        # cursor for test mode; None means \"normal\" mode\n",
    "        self.test_cr = None\n",
    "        self.test_lock = None\n",
    "\n",
    "        # Indicates that the registry is\n",
    "        self.loaded = False             # whether all modules are loaded\n",
    "        self.ready = False              # whether everything is set up\n",
    "\n",
    "        # Inter-process signaling:\n",
    "        # The `base_registry_signaling` sequence indicates the whole registry\n",
    "        # must be reloaded.\n",
    "        # The `base_cache_signaling sequence` indicates all caches must be\n",
    "        # invalidated (i.e. cleared).\n",
    "        self.registry_sequence = None\n",
    "        self.cache_sequence = None\n",
    "\n",
    "        # Flags indicating invalidation of the registry or the cache.\n",
    "        self.registry_invalidated = False\n",
    "        self.cache_invalidated = False\n",
    "\n",
    "        with closing(self.cursor()) as cr:\n",
    "            self.has_unaccent = odoo.modules.db.has_unaccent(cr)\n",
    "\n",
    "    def _clear_cache(self):\n",
    "        \"\"\" Clear the cache and mark it as invalidated. \"\"\"\n",
    "        self.__cache.clear()\n",
    "        self.cache_invalidated = True\n",
    "\n",
    "    def clear_caches(self):\n",
    "        \"\"\" Clear the caches associated to methods decorated with\n",
    "        ``tools.ormcache`` or ``tools.ormcache_multi`` for all the models.\n",
    "        \"\"\"\n",
    "        for model in self.models.values():\n",
    "            model.clear_caches()\n"
   ]
  },
  {
   "cell_type": "code",
   "execution_count": null,
   "metadata": {
    "scrolled": true
   },
   "outputs": [],
   "source": [
    "lru_cache_dict = self.env.registry._Registry__cache.d\n",
    "lru_cache_dict = self.pool._Registry__cache.d"
   ]
  },
  {
   "cell_type": "markdown",
   "metadata": {},
   "source": [
    "#### Clear cache in BaseModel class:"
   ]
  },
  {
   "cell_type": "code",
   "execution_count": null,
   "metadata": {},
   "outputs": [],
   "source": [
    "class BaseModel(MetaModel('DummyModel', (object,), {'_register': False})):\n",
    "\n",
    "    @classmethod\n",
    "    def clear_caches(cls):\n",
    "        \"\"\" Clear the caches\n",
    "\n",
    "        This clears the caches associated to methods decorated with\n",
    "        ``tools.ormcache`` or ``tools.ormcache_multi``.\n",
    "        \"\"\"\n",
    "        cls.pool._clear_cache()"
   ]
  },
  {
   "cell_type": "markdown",
   "metadata": {},
   "source": [
    "<br></br>\n",
    "<br></br>\n",
    "### class LRU *( odoo/odoo/tools/lru.py )*"
   ]
  },
  {
   "cell_type": "code",
   "execution_count": null,
   "metadata": {},
   "outputs": [],
   "source": [
    "import collections\n",
    "import threading\n",
    "\n",
    "from .func import synchronized\n",
    "\n",
    "__all__ = ['LRU']\n",
    "\n",
    "class LRU(object):\n",
    "    \"\"\"\n",
    "    Implementation of a length-limited O(1) LRU map.\n",
    "\n",
    "    Original Copyright 2003 Josiah Carlson, later rebuilt on OrderedDict.\n",
    "    \"\"\"\n",
    "    def __init__(self, count, pairs=()):\n",
    "        self._lock = threading.RLock()\n",
    "        self.count = max(count, 1)\n",
    "        self.d = collections.OrderedDict()\n",
    "        for key, value in pairs:\n",
    "            self[key] = value\n",
    "\n",
    "    @synchronized()\n",
    "    def __contains__(self, obj):\n",
    "        return obj in self.d\n",
    "\n",
    "    def get(self, obj, val=None):\n",
    "        try:\n",
    "            return self[obj]\n",
    "        except KeyError:\n",
    "            return val\n",
    "\n",
    "    @synchronized()\n",
    "    def __getitem__(self, obj):\n",
    "        a = self.d[obj]\n",
    "        self.d.move_to_end(obj, last=False)\n",
    "        return a\n",
    "\n",
    "    @synchronized()\n",
    "    def __setitem__(self, obj, val):\n",
    "        self.d[obj] = val\n",
    "        self.d.move_to_end(obj, last=False)\n",
    "        while len(self.d) > self.count:\n",
    "            self.d.popitem(last=True)\n",
    "\n",
    "    @synchronized()\n",
    "    def __delitem__(self, obj):\n",
    "        del self.d[obj]\n",
    "\n",
    "    @synchronized()\n",
    "    def __len__(self):\n",
    "        return len(self.d)\n",
    "\n",
    "    @synchronized()\n",
    "    def pop(self,key):\n",
    "        return self.d.pop(key)\n",
    "\n",
    "    @synchronized()\n",
    "    def clear(self):\n",
    "        self.d.clear()\n"
   ]
  },
  {
   "cell_type": "markdown",
   "metadata": {},
   "source": [
    "<br></br>\n",
    "### synchronized *( odoo/odoo/tools/func.py )*"
   ]
  },
  {
   "cell_type": "code",
   "execution_count": null,
   "metadata": {},
   "outputs": [],
   "source": [
    "def synchronized(lock_attr='_lock'):\n",
    "    def decorator(func):\n",
    "        @wraps(func)\n",
    "        def wrapper(self, *args, **kwargs):\n",
    "            lock = getattr(self, lock_attr)\n",
    "            try:\n",
    "                lock.acquire()\n",
    "                return func(self, *args, **kwargs)\n",
    "            finally:\n",
    "                lock.release()\n",
    "        return wrapper\n",
    "    return decorator"
   ]
  },
  {
   "cell_type": "markdown",
   "metadata": {},
   "source": [
    "<br></br>\n",
    "### Understanding Lock / Rlock in Python"
   ]
  },
  {
   "cell_type": "markdown",
   "metadata": {},
   "source": [
    "[Python Lock Objects](https://docs.python.org/3/library/threading.html#lock-objects)"
   ]
  },
  {
   "cell_type": "markdown",
   "metadata": {},
   "source": [
    "[Python R-Lock Objects](https://docs.python.org/3/library/threading.html#rlock-objects)"
   ]
  },
  {
   "cell_type": "markdown",
   "metadata": {},
   "source": [
    "[Cинхронизации потоков в Python](https://python-scripts.com/synchronization-between-threads)"
   ]
  },
  {
   "cell_type": "markdown",
   "metadata": {},
   "source": [
    "<br></br>\n",
    "<br></br>\n",
    " ## Let's try it on Odoo UI"
   ]
  }
 ],
 "metadata": {
  "kernelspec": {
   "display_name": "Python 3",
   "language": "python",
   "name": "python3"
  },
  "language_info": {
   "codemirror_mode": {
    "name": "ipython",
    "version": 3
   },
   "file_extension": ".py",
   "mimetype": "text/x-python",
   "name": "python",
   "nbconvert_exporter": "python",
   "pygments_lexer": "ipython3",
   "version": "3.5.3"
  }
 },
 "nbformat": 4,
 "nbformat_minor": 2
}
